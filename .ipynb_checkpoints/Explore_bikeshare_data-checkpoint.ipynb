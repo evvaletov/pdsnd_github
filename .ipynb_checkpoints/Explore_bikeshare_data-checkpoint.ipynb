{
 "cells": [
  {
   "cell_type": "markdown",
   "metadata": {},
   "source": [
    "### Explore Bike Share Data\n",
    "\n",
    "For this project, your goal is to ask and answer three questions about the available bikeshare data from Washington, Chicago, and New York.  This notebook can be submitted directly through the workspace when you are confident in your results.\n",
    "\n",
    "You will be graded against the project [Rubric](https://review.udacity.com/#!/rubrics/2508/view) by a mentor after you have submitted.  To get you started, you can use the template below, but feel free to be creative in your solutions!"
   ]
  },
  {
   "cell_type": "code",
   "execution_count": 1,
   "metadata": {},
   "outputs": [
    {
     "name": "stdout",
     "output_type": "stream",
     "text": [
      "package 'summarytools' successfully unpacked and MD5 sums checked\n",
      "\n",
      "The downloaded binary packages are in\n",
      "\tC:\\Users\\ereme\\AppData\\Local\\Temp\\RtmpmAy4rK\\downloaded_packages\n"
     ]
    }
   ],
   "source": [
    "suppressWarnings(install.packages(\"summarytools\"))"
   ]
  },
  {
   "cell_type": "code",
   "execution_count": 3,
   "metadata": {},
   "outputs": [],
   "source": [
    "suppressMessages(suppressWarnings(library(ggplot2)))\n",
    "suppressMessages(suppressWarnings(library(summarytools)))\n",
    "suppressMessages(suppressWarnings(library(dplyr)))"
   ]
  },
  {
   "cell_type": "code",
   "execution_count": 3,
   "metadata": {},
   "outputs": [],
   "source": [
    "ny = read.csv('new_york_city.csv')\n",
    "wash = read.csv('washington.csv')\n",
    "chi = read.csv('chicago.csv')"
   ]
  },
  {
   "cell_type": "code",
   "execution_count": 4,
   "metadata": {},
   "outputs": [
    {
     "data": {
      "text/html": [
       "<table>\n",
       "<thead><tr><th scope=col>X</th><th scope=col>Start.Time</th><th scope=col>End.Time</th><th scope=col>Trip.Duration</th><th scope=col>Start.Station</th><th scope=col>End.Station</th><th scope=col>User.Type</th><th scope=col>Gender</th><th scope=col>Birth.Year</th></tr></thead>\n",
       "<tbody>\n",
       "\t<tr><td>5688089                                       </td><td>2017-06-11 14:55:05                           </td><td>2017-06-11 15:08:21                           </td><td> 795                                          </td><td>Suffolk St &amp; Stanton St                   </td><td>W Broadway &amp; Spring St                    </td><td>Subscriber                                    </td><td><span style=white-space:pre-wrap>Male  </span></td><td>1998                                          </td></tr>\n",
       "\t<tr><td>4096714                                                           </td><td>2017-05-11 15:30:11                                               </td><td>2017-05-11 15:41:43                                               </td><td> 692                                                              </td><td>Lexington Ave &amp; E 63 St                                       </td><td><span style=white-space:pre-wrap>1 Ave &amp; E 78 St       </span></td><td>Subscriber                                                        </td><td><span style=white-space:pre-wrap>Male  </span>                    </td><td>1981                                                              </td></tr>\n",
       "\t<tr><td>2173887                                                            </td><td>2017-03-29 13:26:26                                                </td><td>2017-03-29 13:48:31                                                </td><td>1325                                                               </td><td><span style=white-space:pre-wrap>1 Pl &amp; Clinton St      </span></td><td><span style=white-space:pre-wrap>Henry St &amp; Degraw St  </span> </td><td>Subscriber                                                         </td><td><span style=white-space:pre-wrap>Male  </span>                     </td><td>1987                                                               </td></tr>\n",
       "\t<tr><td>3945638                                                            </td><td>2017-05-08 19:47:18                                                </td><td>2017-05-08 19:59:01                                                </td><td> 703                                                               </td><td><span style=white-space:pre-wrap>Barrow St &amp; Hudson St  </span></td><td><span style=white-space:pre-wrap>W 20 St &amp; 8 Ave       </span> </td><td>Subscriber                                                         </td><td>Female                                                             </td><td>1986                                                               </td></tr>\n",
       "\t<tr><td>6208972                                                            </td><td>2017-06-21 07:49:16                                                </td><td>2017-06-21 07:54:46                                                </td><td> 329                                                               </td><td><span style=white-space:pre-wrap>1 Ave &amp; E 44 St        </span></td><td><span style=white-space:pre-wrap>E 53 St &amp; 3 Ave       </span> </td><td>Subscriber                                                         </td><td><span style=white-space:pre-wrap>Male  </span>                     </td><td>1992                                                               </td></tr>\n",
       "\t<tr><td>1285652                                                            </td><td>2017-02-22 18:55:24                                                </td><td>2017-02-22 19:12:03                                                </td><td> 998                                                               </td><td><span style=white-space:pre-wrap>State St &amp; Smith St    </span></td><td><span style=white-space:pre-wrap>Bond St &amp; Fulton St   </span> </td><td>Subscriber                                                         </td><td><span style=white-space:pre-wrap>Male  </span>                     </td><td>1986                                                               </td></tr>\n",
       "</tbody>\n",
       "</table>\n"
      ],
      "text/latex": [
       "\\begin{tabular}{r|lllllllll}\n",
       " X & Start.Time & End.Time & Trip.Duration & Start.Station & End.Station & User.Type & Gender & Birth.Year\\\\\n",
       "\\hline\n",
       "\t 5688089                   & 2017-06-11 14:55:05       & 2017-06-11 15:08:21       &  795                      & Suffolk St \\& Stanton St & W Broadway \\& Spring St  & Subscriber                & Male                      & 1998                     \\\\\n",
       "\t 4096714                   & 2017-05-11 15:30:11       & 2017-05-11 15:41:43       &  692                      & Lexington Ave \\& E 63 St & 1 Ave \\& E 78 St         & Subscriber                & Male                      & 1981                     \\\\\n",
       "\t 2173887                   & 2017-03-29 13:26:26       & 2017-03-29 13:48:31       & 1325                      & 1 Pl \\& Clinton St       & Henry St \\& Degraw St    & Subscriber                & Male                      & 1987                     \\\\\n",
       "\t 3945638                   & 2017-05-08 19:47:18       & 2017-05-08 19:59:01       &  703                      & Barrow St \\& Hudson St   & W 20 St \\& 8 Ave         & Subscriber                & Female                    & 1986                     \\\\\n",
       "\t 6208972                   & 2017-06-21 07:49:16       & 2017-06-21 07:54:46       &  329                      & 1 Ave \\& E 44 St         & E 53 St \\& 3 Ave         & Subscriber                & Male                      & 1992                     \\\\\n",
       "\t 1285652                   & 2017-02-22 18:55:24       & 2017-02-22 19:12:03       &  998                      & State St \\& Smith St     & Bond St \\& Fulton St     & Subscriber                & Male                      & 1986                     \\\\\n",
       "\\end{tabular}\n"
      ],
      "text/markdown": [
       "\n",
       "| X | Start.Time | End.Time | Trip.Duration | Start.Station | End.Station | User.Type | Gender | Birth.Year |\n",
       "|---|---|---|---|---|---|---|---|---|\n",
       "| 5688089                 | 2017-06-11 14:55:05     | 2017-06-11 15:08:21     |  795                    | Suffolk St & Stanton St | W Broadway & Spring St  | Subscriber              | Male                    | 1998                    |\n",
       "| 4096714                 | 2017-05-11 15:30:11     | 2017-05-11 15:41:43     |  692                    | Lexington Ave & E 63 St | 1 Ave & E 78 St         | Subscriber              | Male                    | 1981                    |\n",
       "| 2173887                 | 2017-03-29 13:26:26     | 2017-03-29 13:48:31     | 1325                    | 1 Pl & Clinton St       | Henry St & Degraw St    | Subscriber              | Male                    | 1987                    |\n",
       "| 3945638                 | 2017-05-08 19:47:18     | 2017-05-08 19:59:01     |  703                    | Barrow St & Hudson St   | W 20 St & 8 Ave         | Subscriber              | Female                  | 1986                    |\n",
       "| 6208972                 | 2017-06-21 07:49:16     | 2017-06-21 07:54:46     |  329                    | 1 Ave & E 44 St         | E 53 St & 3 Ave         | Subscriber              | Male                    | 1992                    |\n",
       "| 1285652                 | 2017-02-22 18:55:24     | 2017-02-22 19:12:03     |  998                    | State St & Smith St     | Bond St & Fulton St     | Subscriber              | Male                    | 1986                    |\n",
       "\n"
      ],
      "text/plain": [
       "  X       Start.Time          End.Time            Trip.Duration\n",
       "1 5688089 2017-06-11 14:55:05 2017-06-11 15:08:21  795         \n",
       "2 4096714 2017-05-11 15:30:11 2017-05-11 15:41:43  692         \n",
       "3 2173887 2017-03-29 13:26:26 2017-03-29 13:48:31 1325         \n",
       "4 3945638 2017-05-08 19:47:18 2017-05-08 19:59:01  703         \n",
       "5 6208972 2017-06-21 07:49:16 2017-06-21 07:54:46  329         \n",
       "6 1285652 2017-02-22 18:55:24 2017-02-22 19:12:03  998         \n",
       "  Start.Station           End.Station            User.Type  Gender Birth.Year\n",
       "1 Suffolk St & Stanton St W Broadway & Spring St Subscriber Male   1998      \n",
       "2 Lexington Ave & E 63 St 1 Ave & E 78 St        Subscriber Male   1981      \n",
       "3 1 Pl & Clinton St       Henry St & Degraw St   Subscriber Male   1987      \n",
       "4 Barrow St & Hudson St   W 20 St & 8 Ave        Subscriber Female 1986      \n",
       "5 1 Ave & E 44 St         E 53 St & 3 Ave        Subscriber Male   1992      \n",
       "6 State St & Smith St     Bond St & Fulton St    Subscriber Male   1986      "
      ]
     },
     "metadata": {},
     "output_type": "display_data"
    }
   ],
   "source": [
    "head(ny)"
   ]
  },
  {
   "cell_type": "code",
   "execution_count": 5,
   "metadata": {},
   "outputs": [
    {
     "data": {
      "text/html": [
       "<table>\n",
       "<thead><tr><th scope=col>X</th><th scope=col>Start.Time</th><th scope=col>End.Time</th><th scope=col>Trip.Duration</th><th scope=col>Start.Station</th><th scope=col>End.Station</th><th scope=col>User.Type</th></tr></thead>\n",
       "<tbody>\n",
       "\t<tr><td>1621326                                                                                        </td><td>2017-06-21 08:36:34                                                                            </td><td>2017-06-21 08:44:43                                                                            </td><td> 489.066                                                                                       </td><td><span style=white-space:pre-wrap>14th &amp; Belmont St NW                       </span>        </td><td><span style=white-space:pre-wrap>15th &amp; K St NW                                     </span></td><td>Subscriber                                                                                     </td></tr>\n",
       "\t<tr><td> 482740                                                                                        </td><td>2017-03-11 10:40:00                                                                            </td><td>2017-03-11 10:46:00                                                                            </td><td> 402.549                                                                                       </td><td><span style=white-space:pre-wrap>Yuma St &amp; Tenley Circle NW                 </span>        </td><td><span style=white-space:pre-wrap>Connecticut Ave &amp; Yuma St NW                       </span></td><td>Subscriber                                                                                     </td></tr>\n",
       "\t<tr><td>1330037                                                                                        </td><td>2017-05-30 01:02:59                                                                            </td><td>2017-05-30 01:13:37                                                                            </td><td> 637.251                                                                                       </td><td><span style=white-space:pre-wrap>17th St &amp; Massachusetts Ave NW             </span>        </td><td><span style=white-space:pre-wrap>5th &amp; K St NW                                      </span></td><td>Subscriber                                                                                     </td></tr>\n",
       "\t<tr><td> 665458                                                                                        </td><td>2017-04-02 07:48:35                                                                            </td><td>2017-04-02 08:19:03                                                                            </td><td>1827.341                                                                                       </td><td><span style=white-space:pre-wrap>Constitution Ave &amp; 2nd St NW/DOL           </span>        </td><td><span style=white-space:pre-wrap>M St &amp; Pennsylvania Ave NW                         </span></td><td><span style=white-space:pre-wrap>Customer  </span>                                             </td></tr>\n",
       "\t<tr><td>1481135                                                                                        </td><td>2017-06-10 08:36:28                                                                            </td><td>2017-06-10 09:02:17                                                                            </td><td>1549.427                                                                                       </td><td>Henry Bacon Dr &amp; Lincoln Memorial Circle NW                                                </td><td><span style=white-space:pre-wrap>Maine Ave &amp; 7th St SW                              </span></td><td>Subscriber                                                                                     </td></tr>\n",
       "\t<tr><td>1148202                                                                                </td><td>2017-05-14 07:18:18                                                                    </td><td>2017-05-14 07:24:56                                                                    </td><td> 398.000                                                                               </td><td><span style=white-space:pre-wrap>1st &amp; K St SE                              </span></td><td>Eastern Market Metro / Pennsylvania Ave &amp; 7th St SE                                </td><td>Subscriber                                                                             </td></tr>\n",
       "</tbody>\n",
       "</table>\n"
      ],
      "text/latex": [
       "\\begin{tabular}{r|lllllll}\n",
       " X & Start.Time & End.Time & Trip.Duration & Start.Station & End.Station & User.Type\\\\\n",
       "\\hline\n",
       "\t 1621326                                               & 2017-06-21 08:36:34                                   & 2017-06-21 08:44:43                                   &  489.066                                              & 14th \\& Belmont St NW                                & 15th \\& K St NW                                      & Subscriber                                           \\\\\n",
       "\t  482740                                               & 2017-03-11 10:40:00                                   & 2017-03-11 10:46:00                                   &  402.549                                              & Yuma St \\& Tenley Circle NW                          & Connecticut Ave \\& Yuma St NW                        & Subscriber                                           \\\\\n",
       "\t 1330037                                               & 2017-05-30 01:02:59                                   & 2017-05-30 01:13:37                                   &  637.251                                              & 17th St \\& Massachusetts Ave NW                      & 5th \\& K St NW                                       & Subscriber                                           \\\\\n",
       "\t  665458                                               & 2017-04-02 07:48:35                                   & 2017-04-02 08:19:03                                   & 1827.341                                              & Constitution Ave \\& 2nd St NW/DOL                    & M St \\& Pennsylvania Ave NW                          & Customer                                             \\\\\n",
       "\t 1481135                                               & 2017-06-10 08:36:28                                   & 2017-06-10 09:02:17                                   & 1549.427                                              & Henry Bacon Dr \\& Lincoln Memorial Circle NW         & Maine Ave \\& 7th St SW                               & Subscriber                                           \\\\\n",
       "\t 1148202                                               & 2017-05-14 07:18:18                                   & 2017-05-14 07:24:56                                   &  398.000                                              & 1st \\& K St SE                                       & Eastern Market Metro / Pennsylvania Ave \\& 7th St SE & Subscriber                                           \\\\\n",
       "\\end{tabular}\n"
      ],
      "text/markdown": [
       "\n",
       "| X | Start.Time | End.Time | Trip.Duration | Start.Station | End.Station | User.Type |\n",
       "|---|---|---|---|---|---|---|\n",
       "| 1621326                                             | 2017-06-21 08:36:34                                 | 2017-06-21 08:44:43                                 |  489.066                                            | 14th & Belmont St NW                                | 15th & K St NW                                      | Subscriber                                          |\n",
       "|  482740                                             | 2017-03-11 10:40:00                                 | 2017-03-11 10:46:00                                 |  402.549                                            | Yuma St & Tenley Circle NW                          | Connecticut Ave & Yuma St NW                        | Subscriber                                          |\n",
       "| 1330037                                             | 2017-05-30 01:02:59                                 | 2017-05-30 01:13:37                                 |  637.251                                            | 17th St & Massachusetts Ave NW                      | 5th & K St NW                                       | Subscriber                                          |\n",
       "|  665458                                             | 2017-04-02 07:48:35                                 | 2017-04-02 08:19:03                                 | 1827.341                                            | Constitution Ave & 2nd St NW/DOL                    | M St & Pennsylvania Ave NW                          | Customer                                            |\n",
       "| 1481135                                             | 2017-06-10 08:36:28                                 | 2017-06-10 09:02:17                                 | 1549.427                                            | Henry Bacon Dr & Lincoln Memorial Circle NW         | Maine Ave & 7th St SW                               | Subscriber                                          |\n",
       "| 1148202                                             | 2017-05-14 07:18:18                                 | 2017-05-14 07:24:56                                 |  398.000                                            | 1st & K St SE                                       | Eastern Market Metro / Pennsylvania Ave & 7th St SE | Subscriber                                          |\n",
       "\n"
      ],
      "text/plain": [
       "  X       Start.Time          End.Time            Trip.Duration\n",
       "1 1621326 2017-06-21 08:36:34 2017-06-21 08:44:43  489.066     \n",
       "2  482740 2017-03-11 10:40:00 2017-03-11 10:46:00  402.549     \n",
       "3 1330037 2017-05-30 01:02:59 2017-05-30 01:13:37  637.251     \n",
       "4  665458 2017-04-02 07:48:35 2017-04-02 08:19:03 1827.341     \n",
       "5 1481135 2017-06-10 08:36:28 2017-06-10 09:02:17 1549.427     \n",
       "6 1148202 2017-05-14 07:18:18 2017-05-14 07:24:56  398.000     \n",
       "  Start.Station                              \n",
       "1 14th & Belmont St NW                       \n",
       "2 Yuma St & Tenley Circle NW                 \n",
       "3 17th St & Massachusetts Ave NW             \n",
       "4 Constitution Ave & 2nd St NW/DOL           \n",
       "5 Henry Bacon Dr & Lincoln Memorial Circle NW\n",
       "6 1st & K St SE                              \n",
       "  End.Station                                         User.Type \n",
       "1 15th & K St NW                                      Subscriber\n",
       "2 Connecticut Ave & Yuma St NW                        Subscriber\n",
       "3 5th & K St NW                                       Subscriber\n",
       "4 M St & Pennsylvania Ave NW                          Customer  \n",
       "5 Maine Ave & 7th St SW                               Subscriber\n",
       "6 Eastern Market Metro / Pennsylvania Ave & 7th St SE Subscriber"
      ]
     },
     "metadata": {},
     "output_type": "display_data"
    }
   ],
   "source": [
    "head(wash)"
   ]
  },
  {
   "cell_type": "code",
   "execution_count": 6,
   "metadata": {},
   "outputs": [
    {
     "data": {
      "text/html": [
       "<table>\n",
       "<thead><tr><th scope=col>X</th><th scope=col>Start.Time</th><th scope=col>End.Time</th><th scope=col>Trip.Duration</th><th scope=col>Start.Station</th><th scope=col>End.Station</th><th scope=col>User.Type</th><th scope=col>Gender</th><th scope=col>Birth.Year</th></tr></thead>\n",
       "<tbody>\n",
       "\t<tr><td>1423854                                                                  </td><td>2017-06-23 15:09:32                                                      </td><td>2017-06-23 15:14:53                                                      </td><td> 321                                                                     </td><td><span style=white-space:pre-wrap>Wood St &amp; Hubbard St         </span></td><td><span style=white-space:pre-wrap>Damen Ave &amp; Chicago Ave     </span> </td><td>Subscriber                                                               </td><td><span style=white-space:pre-wrap>Male  </span>                           </td><td>1992                                                                     </td></tr>\n",
       "\t<tr><td> 955915                                                              </td><td>2017-05-25 18:19:03                                                  </td><td>2017-05-25 18:45:53                                                  </td><td>1610                                                                 </td><td><span style=white-space:pre-wrap>Theater on the Lake          </span></td><td>Sheffield Ave &amp; Waveland Ave                                     </td><td>Subscriber                                                           </td><td>Female                                                               </td><td>1992                                                                 </td></tr>\n",
       "\t<tr><td><span style=white-space:pre-wrap>   9031</span>                          </td><td>2017-01-04 08:27:49                                                      </td><td>2017-01-04 08:34:45                                                      </td><td> 416                                                                     </td><td><span style=white-space:pre-wrap>May St &amp; Taylor St           </span></td><td><span style=white-space:pre-wrap>Wood St &amp; Taylor St         </span> </td><td>Subscriber                                                               </td><td><span style=white-space:pre-wrap>Male  </span>                           </td><td>1981                                                                     </td></tr>\n",
       "\t<tr><td> 304487                                       </td><td>2017-03-06 13:49:38                           </td><td>2017-03-06 13:55:28                           </td><td> 350                                          </td><td>Christiana Ave &amp; Lawrence Ave             </td><td>St. Louis Ave &amp; Balmoral Ave              </td><td>Subscriber                                    </td><td><span style=white-space:pre-wrap>Male  </span></td><td>1986                                          </td></tr>\n",
       "\t<tr><td><span style=white-space:pre-wrap>  45207</span>                          </td><td>2017-01-17 14:53:07                                                      </td><td>2017-01-17 15:02:01                                                      </td><td> 534                                                                     </td><td><span style=white-space:pre-wrap>Clark St &amp; Randolph St       </span></td><td>Desplaines St &amp; Jackson Blvd                                         </td><td>Subscriber                                                               </td><td><span style=white-space:pre-wrap>Male  </span>                           </td><td>1975                                                                     </td></tr>\n",
       "\t<tr><td>1473887                                                                 </td><td>2017-06-26 09:01:20                                                     </td><td>2017-06-26 09:11:06                                                     </td><td> 586                                                                    </td><td>Clinton St &amp; Washington Blvd                                        </td><td><span style=white-space:pre-wrap>Canal St &amp; Taylor St        </span></td><td>Subscriber                                                              </td><td><span style=white-space:pre-wrap>Male  </span>                          </td><td>1990                                                                    </td></tr>\n",
       "</tbody>\n",
       "</table>\n"
      ],
      "text/latex": [
       "\\begin{tabular}{r|lllllllll}\n",
       " X & Start.Time & End.Time & Trip.Duration & Start.Station & End.Station & User.Type & Gender & Birth.Year\\\\\n",
       "\\hline\n",
       "\t 1423854                         & 2017-06-23 15:09:32             & 2017-06-23 15:14:53             &  321                            & Wood St \\& Hubbard St          & Damen Ave \\& Chicago Ave       & Subscriber                      & Male                            & 1992                           \\\\\n",
       "\t  955915                        & 2017-05-25 18:19:03            & 2017-05-25 18:45:53            & 1610                           & Theater on the Lake            & Sheffield Ave \\& Waveland Ave & Subscriber                     & Female                         & 1992                          \\\\\n",
       "\t    9031                         & 2017-01-04 08:27:49             & 2017-01-04 08:34:45             &  416                            & May St \\& Taylor St            & Wood St \\& Taylor St           & Subscriber                      & Male                            & 1981                           \\\\\n",
       "\t  304487                         & 2017-03-06 13:49:38             & 2017-03-06 13:55:28             &  350                            & Christiana Ave \\& Lawrence Ave & St. Louis Ave \\& Balmoral Ave  & Subscriber                      & Male                            & 1986                           \\\\\n",
       "\t   45207                         & 2017-01-17 14:53:07             & 2017-01-17 15:02:01             &  534                            & Clark St \\& Randolph St        & Desplaines St \\& Jackson Blvd  & Subscriber                      & Male                            & 1975                           \\\\\n",
       "\t 1473887                         & 2017-06-26 09:01:20             & 2017-06-26 09:11:06             &  586                            & Clinton St \\& Washington Blvd  & Canal St \\& Taylor St          & Subscriber                      & Male                            & 1990                           \\\\\n",
       "\\end{tabular}\n"
      ],
      "text/markdown": [
       "\n",
       "| X | Start.Time | End.Time | Trip.Duration | Start.Station | End.Station | User.Type | Gender | Birth.Year |\n",
       "|---|---|---|---|---|---|---|---|---|\n",
       "| 1423854                       | 2017-06-23 15:09:32           | 2017-06-23 15:14:53           |  321                          | Wood St & Hubbard St          | Damen Ave & Chicago Ave       | Subscriber                    | Male                          | 1992                          |\n",
       "|  955915                       | 2017-05-25 18:19:03           | 2017-05-25 18:45:53           | 1610                          | Theater on the Lake           | Sheffield Ave & Waveland Ave  | Subscriber                    | Female                        | 1992                          |\n",
       "|    9031                       | 2017-01-04 08:27:49           | 2017-01-04 08:34:45           |  416                          | May St & Taylor St            | Wood St & Taylor St           | Subscriber                    | Male                          | 1981                          |\n",
       "|  304487                       | 2017-03-06 13:49:38           | 2017-03-06 13:55:28           |  350                          | Christiana Ave & Lawrence Ave | St. Louis Ave & Balmoral Ave  | Subscriber                    | Male                          | 1986                          |\n",
       "|   45207                       | 2017-01-17 14:53:07           | 2017-01-17 15:02:01           |  534                          | Clark St & Randolph St        | Desplaines St & Jackson Blvd  | Subscriber                    | Male                          | 1975                          |\n",
       "| 1473887                       | 2017-06-26 09:01:20           | 2017-06-26 09:11:06           |  586                          | Clinton St & Washington Blvd  | Canal St & Taylor St          | Subscriber                    | Male                          | 1990                          |\n",
       "\n"
      ],
      "text/plain": [
       "  X       Start.Time          End.Time            Trip.Duration\n",
       "1 1423854 2017-06-23 15:09:32 2017-06-23 15:14:53  321         \n",
       "2  955915 2017-05-25 18:19:03 2017-05-25 18:45:53 1610         \n",
       "3    9031 2017-01-04 08:27:49 2017-01-04 08:34:45  416         \n",
       "4  304487 2017-03-06 13:49:38 2017-03-06 13:55:28  350         \n",
       "5   45207 2017-01-17 14:53:07 2017-01-17 15:02:01  534         \n",
       "6 1473887 2017-06-26 09:01:20 2017-06-26 09:11:06  586         \n",
       "  Start.Station                 End.Station                  User.Type  Gender\n",
       "1 Wood St & Hubbard St          Damen Ave & Chicago Ave      Subscriber Male  \n",
       "2 Theater on the Lake           Sheffield Ave & Waveland Ave Subscriber Female\n",
       "3 May St & Taylor St            Wood St & Taylor St          Subscriber Male  \n",
       "4 Christiana Ave & Lawrence Ave St. Louis Ave & Balmoral Ave Subscriber Male  \n",
       "5 Clark St & Randolph St        Desplaines St & Jackson Blvd Subscriber Male  \n",
       "6 Clinton St & Washington Blvd  Canal St & Taylor St         Subscriber Male  \n",
       "  Birth.Year\n",
       "1 1992      \n",
       "2 1992      \n",
       "3 1981      \n",
       "4 1986      \n",
       "5 1975      \n",
       "6 1990      "
      ]
     },
     "metadata": {},
     "output_type": "display_data"
    }
   ],
   "source": [
    "head(chi)"
   ]
  },
  {
   "cell_type": "markdown",
   "metadata": {},
   "source": [
    "### Question 1\n",
    "\n",
    "\n",
    "**What is the most common month for travel across all cities?**"
   ]
  },
  {
   "cell_type": "code",
   "execution_count": 7,
   "metadata": {},
   "outputs": [
    {
     "data": {
      "text/html": [
       "<table>\n",
       "<thead><tr><th scope=col>Months</th></tr></thead>\n",
       "<tbody>\n",
       "\t<tr><td>June    </td></tr>\n",
       "\t<tr><td>May     </td></tr>\n",
       "\t<tr><td>March   </td></tr>\n",
       "\t<tr><td>May     </td></tr>\n",
       "\t<tr><td>June    </td></tr>\n",
       "\t<tr><td>February</td></tr>\n",
       "</tbody>\n",
       "</table>\n"
      ],
      "text/latex": [
       "\\begin{tabular}{r|l}\n",
       " Months\\\\\n",
       "\\hline\n",
       "\t June    \\\\\n",
       "\t May     \\\\\n",
       "\t March   \\\\\n",
       "\t May     \\\\\n",
       "\t June    \\\\\n",
       "\t February\\\\\n",
       "\\end{tabular}\n"
      ],
      "text/markdown": [
       "\n",
       "| Months |\n",
       "|---|\n",
       "| June     |\n",
       "| May      |\n",
       "| March    |\n",
       "| May      |\n",
       "| June     |\n",
       "| February |\n",
       "\n"
      ],
      "text/plain": [
       "  Months  \n",
       "1 June    \n",
       "2 May     \n",
       "3 March   \n",
       "4 May     \n",
       "5 June    \n",
       "6 February"
      ]
     },
     "metadata": {},
     "output_type": "display_data"
    }
   ],
   "source": [
    "# Extract months from each dataframe into vectors and concatenate them into allmonths\n",
    "nymonths <- with(ny, months(as.Date(Start.Time)))\n",
    "washmonths <- with(wash, months(as.Date(Start.Time)))\n",
    "chimonths <- with(chi, months(as.Date(Start.Time)))\n",
    "allmonths <- data.frame(Months=c(nymonths, washmonths, chimonths))\n",
    "head(allmonths)"
   ]
  },
  {
   "cell_type": "code",
   "execution_count": 8,
   "metadata": {},
   "outputs": [
    {
     "data": {
      "text/html": [
       "152451"
      ],
      "text/latex": [
       "152451"
      ],
      "text/markdown": [
       "152451"
      ],
      "text/plain": [
       "[1] 152451"
      ]
     },
     "metadata": {},
     "output_type": "display_data"
    }
   ],
   "source": [
    "# Check that the length of allmonths is the sum of the numbers of rows in each dataframe\n",
    "stopifnot(nrow(ny)+nrow(wash)+nrow(chi)==nrow(allmonths))\n",
    "nrow(allmonths)"
   ]
  },
  {
   "cell_type": "code",
   "execution_count": 10,
   "metadata": {},
   "outputs": [
    {
     "data": {
      "image/png": "[encoded data removed]",
      "text/plain": [
       "plot without title"
      ]
     },
     "metadata": {},
     "output_type": "display_data"
    }
   ],
   "source": [
    "# In the histogram above, there is an NA bar that is practically zero. (There is one NA entry as the summary below shows.)\n",
    "# We will remove the NA bar here.\n",
    "ggplot(aes(x = Months), data = na.omit(allmonths))  + geom_bar() + labs(y = \"Count\",\n",
    "    title = \"Counts of Trips Across the Three Cities Versus Month\")"
   ]
  },
  {
   "cell_type": "code",
   "execution_count": 12,
   "metadata": {},
   "outputs": [
    {
     "data": {
      "text/html": [
       "<table>\n",
       "<thead><tr><th></th><th scope=col>Freq</th><th scope=col>% Valid</th></tr></thead>\n",
       "<tbody>\n",
       "\t<tr><th scope=row>June</th><td> 37151   </td><td> 24.36930</td></tr>\n",
       "\t<tr><th scope=row>May</th><td> 31157   </td><td> 20.43752</td></tr>\n",
       "\t<tr><th scope=row>April</th><td> 30709   </td><td> 20.14365</td></tr>\n",
       "\t<tr><th scope=row>March</th><td> 19235   </td><td> 12.61725</td></tr>\n",
       "\t<tr><th scope=row>February</th><td> 18857   </td><td> 12.36930</td></tr>\n",
       "\t<tr><th scope=row>January</th><td> 15341   </td><td> 10.06297</td></tr>\n",
       "\t<tr><th scope=row>&lt;NA&gt;</th><td>     1   </td><td>       NA</td></tr>\n",
       "\t<tr><th scope=row>Total</th><td>152451   </td><td>100.00000</td></tr>\n",
       "</tbody>\n",
       "</table>\n"
      ],
      "text/latex": [
       "\\begin{tabular}{r|ll}\n",
       "  & Freq & \\% Valid\\\\\n",
       "\\hline\n",
       "\tJune &  37151    &  24.36930\\\\\n",
       "\tMay &  31157    &  20.43752\\\\\n",
       "\tApril &  30709    &  20.14365\\\\\n",
       "\tMarch &  19235    &  12.61725\\\\\n",
       "\tFebruary &  18857    &  12.36930\\\\\n",
       "\tJanuary &  15341    &  10.06297\\\\\n",
       "\t<NA> &      1    &        NA\\\\\n",
       "\tTotal & 152451    & 100.00000\\\\\n",
       "\\end{tabular}\n"
      ],
      "text/markdown": [
       "\n",
       "| <!--/--> | Freq | % Valid |\n",
       "|---|---|---|\n",
       "| June |  37151    |  24.36930 |\n",
       "| May |  31157    |  20.43752 |\n",
       "| April |  30709    |  20.14365 |\n",
       "| March |  19235    |  12.61725 |\n",
       "| February |  18857    |  12.36930 |\n",
       "| January |  15341    |  10.06297 |\n",
       "| <NA> |      1    |        NA |\n",
       "| Total | 152451    | 100.00000 |\n",
       "\n"
      ],
      "text/plain": [
       "         Freq   % Valid  \n",
       "June      37151  24.36930\n",
       "May       31157  20.43752\n",
       "April     30709  20.14365\n",
       "March     19235  12.61725\n",
       "February  18857  12.36930\n",
       "January   15341  10.06297\n",
       "<NA>          1        NA\n",
       "Total    152451 100.00000"
      ]
     },
     "metadata": {},
     "output_type": "display_data"
    }
   ],
   "source": [
    "freqs=freq(allmonths, order=\"freq\")[,c(\"Freq\",\"% Valid\")]\n",
    "freqs"
   ]
  },
  {
   "cell_type": "code",
   "execution_count": 13,
   "metadata": {},
   "outputs": [
    {
     "data": {
      "text/plain": [
       "      Freq           % Valid      \n",
       " Min.   :     1   Min.   : 10.06  \n",
       " 1st Qu.: 17978   1st Qu.: 12.49  \n",
       " Median : 24972   Median : 20.14  \n",
       " Mean   : 38113   Mean   : 28.57  \n",
       " 3rd Qu.: 32656   3rd Qu.: 22.40  \n",
       " Max.   :152451   Max.   :100.00  \n",
       "                  NA's   :1       "
      ]
     },
     "metadata": {},
     "output_type": "display_data"
    }
   ],
   "source": [
    "summary(freqs)"
   ]
  },
  {
   "cell_type": "markdown",
   "metadata": {},
   "source": [
    "**The most common month for travel across all cities was June. With 37151 trips beginning in June, it accounted for 24% of the trips. In comparison, the median number of trips per month across all cities was 24972, with 1st and 4th quantiles as 17978 and 32656.**"
   ]
  },
  {
   "cell_type": "markdown",
   "metadata": {},
   "source": [
    "### Question 2\n",
    "\n",
    "**What is the most common end station in each city?**"
   ]
  },
  {
   "cell_type": "code",
   "execution_count": 14,
   "metadata": {},
   "outputs": [],
   "source": [
    "# Add a column to each dataframe with the city name\n",
    "ny$City = \"New York\"\n",
    "wash$City = \"Washington\"\n",
    "chi$City = \"Chicago\""
   ]
  },
  {
   "cell_type": "code",
   "execution_count": 15,
   "metadata": {},
   "outputs": [
    {
     "data": {
      "text/html": [
       "<table>\n",
       "<thead><tr><th scope=col>End.Station</th><th scope=col>Frequency</th><th scope=col>City</th><th scope=col>order</th></tr></thead>\n",
       "<tbody>\n",
       "\t<tr><td>Pershing Square North          </td><td> 556                           </td><td>New York                       </td><td>1                              </td></tr>\n",
       "\t<tr><td><span style=white-space:pre-wrap>E 17 St &amp; Broadway             </span></td><td> 445                                                                       </td><td><span style=white-space:pre-wrap>New York  </span>                         </td><td>2                                                                          </td></tr>\n",
       "\t<tr><td><span style=white-space:pre-wrap>Broadway &amp; E 22 St             </span></td><td> 427                                                                       </td><td><span style=white-space:pre-wrap>New York  </span>                         </td><td>3                                                                          </td></tr>\n",
       "\t<tr><td>Columbus Circle / Union Station</td><td>1767                           </td><td>Washington                     </td><td>4                              </td></tr>\n",
       "\t<tr><td><span style=white-space:pre-wrap>Jefferson Dr &amp; 14th St SW      </span></td><td>1603                                                                       </td><td>Washington                                                                 </td><td>5                                                                          </td></tr>\n",
       "\t<tr><td>Lincoln Memorial               </td><td>1514                           </td><td>Washington                     </td><td>6                              </td></tr>\n",
       "\t<tr><td><span style=white-space:pre-wrap>Streeter Dr &amp; Grand Ave        </span></td><td> 233                                                                       </td><td><span style=white-space:pre-wrap>Chicago   </span>                         </td><td>7                                                                          </td></tr>\n",
       "\t<tr><td><span style=white-space:pre-wrap>Clinton St &amp; Madison St        </span></td><td> 145                                                                       </td><td><span style=white-space:pre-wrap>Chicago   </span>                         </td><td>8                                                                          </td></tr>\n",
       "\t<tr><td>Theater on the Lake            </td><td> 131                           </td><td>Chicago                        </td><td>9                              </td></tr>\n",
       "</tbody>\n",
       "</table>\n"
      ],
      "text/latex": [
       "\\begin{tabular}{r|llll}\n",
       " End.Station & Frequency & City & order\\\\\n",
       "\\hline\n",
       "\t Pershing Square North           &  556                            & New York                        & 1                              \\\\\n",
       "\t E 17 St \\& Broadway              &  445                              & New York                          & 2                                \\\\\n",
       "\t Broadway \\& E 22 St              &  427                              & New York                          & 3                                \\\\\n",
       "\t Columbus Circle / Union Station & 1767                            & Washington                      & 4                              \\\\\n",
       "\t Jefferson Dr \\& 14th St SW       & 1603                              & Washington                        & 5                                \\\\\n",
       "\t Lincoln Memorial                & 1514                            & Washington                      & 6                              \\\\\n",
       "\t Streeter Dr \\& Grand Ave         &  233                              & Chicago                           & 7                                \\\\\n",
       "\t Clinton St \\& Madison St         &  145                              & Chicago                           & 8                                \\\\\n",
       "\t Theater on the Lake             &  131                            & Chicago                         & 9                              \\\\\n",
       "\\end{tabular}\n"
      ],
      "text/markdown": [
       "\n",
       "| End.Station | Frequency | City | order |\n",
       "|---|---|---|---|\n",
       "| Pershing Square North           |  556                            | New York                        | 1                               |\n",
       "| E 17 St & Broadway              |  445                            | New York                        | 2                               |\n",
       "| Broadway & E 22 St              |  427                            | New York                        | 3                               |\n",
       "| Columbus Circle / Union Station | 1767                            | Washington                      | 4                               |\n",
       "| Jefferson Dr & 14th St SW       | 1603                            | Washington                      | 5                               |\n",
       "| Lincoln Memorial                | 1514                            | Washington                      | 6                               |\n",
       "| Streeter Dr & Grand Ave         |  233                            | Chicago                         | 7                               |\n",
       "| Clinton St & Madison St         |  145                            | Chicago                         | 8                               |\n",
       "| Theater on the Lake             |  131                            | Chicago                         | 9                               |\n",
       "\n"
      ],
      "text/plain": [
       "  End.Station                     Frequency City       order\n",
       "1 Pershing Square North            556      New York   1    \n",
       "2 E 17 St & Broadway               445      New York   2    \n",
       "3 Broadway & E 22 St               427      New York   3    \n",
       "4 Columbus Circle / Union Station 1767      Washington 4    \n",
       "5 Jefferson Dr & 14th St SW       1603      Washington 5    \n",
       "6 Lincoln Memorial                1514      Washington 6    \n",
       "7 Streeter Dr & Grand Ave          233      Chicago    7    \n",
       "8 Clinton St & Madison St          145      Chicago    8    \n",
       "9 Theater on the Lake              131      Chicago    9    "
      ]
     },
     "metadata": {},
     "output_type": "display_data"
    }
   ],
   "source": [
    "# Make a dataframe with the top 3 commonly used end stations from each city\n",
    "endStationsTopTens <- data.frame(End.Station=character(),City=character(),stringsAsFactors=FALSE)\n",
    "\n",
    "for (df in list(ny, wash, chi)) {\n",
    "    endStations <- data.frame(End.Station=df$End.Station, City=df$City)\n",
    "    endStationsFreqs <- data.frame(table(endStations$End.Station))\n",
    "    colnames(endStationsFreqs) <- c('End.Station', 'Frequency')\n",
    "    head(endStationsFreqs)\n",
    "    endStationsFreqs <- endStationsFreqs[order(endStationsFreqs$Frequency, decreasing=TRUE),][1:3,]\n",
    "    endStationsFreqs$City <- df$City[1]\n",
    "    endStationsTopTens <- rbind(endStationsTopTens, endStationsFreqs)\n",
    "}\n",
    "\n",
    "row.names(endStationsTopTens) <- NULL\n",
    "endStationsTopTens$order = c(1:nrow(endStationsTopTens))\n",
    "head(endStationsTopTens,30)"
   ]
  },
  {
   "cell_type": "code",
   "execution_count": 16,
   "metadata": {},
   "outputs": [
    {
     "data": {
      "text/html": [
       "9"
      ],
      "text/latex": [
       "9"
      ],
      "text/markdown": [
       "9"
      ],
      "text/plain": [
       "[1] 9"
      ]
     },
     "metadata": {},
     "output_type": "display_data"
    }
   ],
   "source": [
    "# Check that we have 9 top stations in total, 3 for each city\n",
    "stopifnot(nrow(endStationsTopTens)==9)\n",
    "nrow(endStationsTopTens)"
   ]
  },
  {
   "cell_type": "code",
   "execution_count": 17,
   "metadata": {},
   "outputs": [
    {
     "data": {
      "image/png": "[encoded data removed]",
      "text/plain": [
       "plot without title"
      ]
     },
     "metadata": {},
     "output_type": "display_data"
    }
   ],
   "source": [
    "# Make a faceted of top 5 most commonly used stations from each city.\n",
    "ggplot(aes(x = reorder(End.Station, order), y=Frequency, fill = as.factor(City)), data = endStationsTopTens) +\n",
    "       geom_bar(stat=\"identity\") +\n",
    "       facet_grid(~City, scales = \"free\", space = \"free\") + theme(axis.text.x = element_text(angle = 90, hjust = 1)) +\n",
    "       labs(x = \"Station Name\", fill = \"City\", y = \"Count\", title = \"Top Three Most Common End Stations in Recorded Trips by City\") +\n",
    "       theme(legend.position = \"none\")"
   ]
  },
  {
   "cell_type": "code",
   "execution_count": 18,
   "metadata": {},
   "outputs": [
    {
     "data": {
      "text/html": [
       "<table>\n",
       "<thead><tr><th></th><th scope=col>Freq</th><th scope=col>% Valid</th><th scope=col>% Valid Cum.</th><th scope=col>% Total</th><th scope=col>% Total Cum.</th></tr></thead>\n",
       "<tbody>\n",
       "\t<tr><th scope=row>Pershing Square North</th><td>556      </td><td>1.0151543</td><td>1.015154 </td><td>1.0151543</td><td>1.015154 </td></tr>\n",
       "\t<tr><th scope=row>E 17 St &amp; Broadway</th><td>445      </td><td>0.8124886</td><td>1.827643 </td><td>0.8124886</td><td>1.827643 </td></tr>\n",
       "\t<tr><th scope=row>Broadway &amp; E 22 St</th><td>427      </td><td>0.7796239</td><td>2.607267 </td><td>0.7796239</td><td>2.607267 </td></tr>\n",
       "\t<tr><th scope=row>W 21 St &amp; 6 Ave</th><td>365      </td><td>0.6664232</td><td>3.273690 </td><td>0.6664232</td><td>3.273690 </td></tr>\n",
       "\t<tr><th scope=row>W 20 St &amp; 11 Ave</th><td>344      </td><td>0.6280811</td><td>3.901771 </td><td>0.6280811</td><td>3.901771 </td></tr>\n",
       "</tbody>\n",
       "</table>\n"
      ],
      "text/latex": [
       "\\begin{tabular}{r|lllll}\n",
       "  & Freq & \\% Valid & \\% Valid Cum. & \\% Total & \\% Total Cum.\\\\\n",
       "\\hline\n",
       "\tPershing Square North & 556       & 1.0151543 & 1.015154  & 1.0151543 & 1.015154 \\\\\n",
       "\tE 17 St \\& Broadway & 445       & 0.8124886 & 1.827643  & 0.8124886 & 1.827643 \\\\\n",
       "\tBroadway \\& E 22 St & 427       & 0.7796239 & 2.607267  & 0.7796239 & 2.607267 \\\\\n",
       "\tW 21 St \\& 6 Ave & 365       & 0.6664232 & 3.273690  & 0.6664232 & 3.273690 \\\\\n",
       "\tW 20 St \\& 11 Ave & 344       & 0.6280811 & 3.901771  & 0.6280811 & 3.901771 \\\\\n",
       "\\end{tabular}\n"
      ],
      "text/markdown": [
       "\n",
       "| <!--/--> | Freq | % Valid | % Valid Cum. | % Total | % Total Cum. |\n",
       "|---|---|---|---|---|---|\n",
       "| Pershing Square North | 556       | 1.0151543 | 1.015154  | 1.0151543 | 1.015154  |\n",
       "| E 17 St & Broadway | 445       | 0.8124886 | 1.827643  | 0.8124886 | 1.827643  |\n",
       "| Broadway & E 22 St | 427       | 0.7796239 | 2.607267  | 0.7796239 | 2.607267  |\n",
       "| W 21 St & 6 Ave | 365       | 0.6664232 | 3.273690  | 0.6664232 | 3.273690  |\n",
       "| W 20 St & 11 Ave | 344       | 0.6280811 | 3.901771  | 0.6280811 | 3.901771  |\n",
       "\n"
      ],
      "text/plain": [
       "                      Freq % Valid   % Valid Cum. % Total   % Total Cum.\n",
       "Pershing Square North 556  1.0151543 1.015154     1.0151543 1.015154    \n",
       "E 17 St & Broadway    445  0.8124886 1.827643     0.8124886 1.827643    \n",
       "Broadway & E 22 St    427  0.7796239 2.607267     0.7796239 2.607267    \n",
       "W 21 St & 6 Ave       365  0.6664232 3.273690     0.6664232 3.273690    \n",
       "W 20 St & 11 Ave      344  0.6280811 3.901771     0.6280811 3.901771    "
      ]
     },
     "metadata": {},
     "output_type": "display_data"
    }
   ],
   "source": [
    "# Top 5 commonly used station in New York\n",
    "freq(ny$End.Station, order=\"freq\")[1:5,]"
   ]
  },
  {
   "cell_type": "code",
   "execution_count": 19,
   "metadata": {},
   "outputs": [
    {
     "data": {
      "text/html": [
       "<table>\n",
       "<thead><tr><th></th><th scope=col>Freq</th><th scope=col>% Valid</th><th scope=col>% Valid Cum.</th><th scope=col>% Total</th><th scope=col>% Total Cum.</th></tr></thead>\n",
       "<tbody>\n",
       "\t<tr><th scope=row>Columbus Circle / Union Station</th><td>1767    </td><td>1.984256</td><td>1.984256</td><td>1.984256</td><td>1.984256</td></tr>\n",
       "\t<tr><th scope=row>Jefferson Dr &amp; 14th St SW</th><td>1603    </td><td>1.800092</td><td>3.784348</td><td>1.800092</td><td>3.784348</td></tr>\n",
       "\t<tr><th scope=row>Lincoln Memorial</th><td>1514    </td><td>1.700149</td><td>5.484498</td><td>1.700149</td><td>5.484498</td></tr>\n",
       "\t<tr><th scope=row>Massachusetts Ave &amp; Dupont Circle NW</th><td>1344    </td><td>1.509248</td><td>6.993745</td><td>1.509248</td><td>6.993745</td></tr>\n",
       "\t<tr><th scope=row>Smithsonian-National Mall / Jefferson Dr &amp; 12th St SW</th><td>1103    </td><td>1.238616</td><td>8.232361</td><td>1.238616</td><td>8.232361</td></tr>\n",
       "</tbody>\n",
       "</table>\n"
      ],
      "text/latex": [
       "\\begin{tabular}{r|lllll}\n",
       "  & Freq & \\% Valid & \\% Valid Cum. & \\% Total & \\% Total Cum.\\\\\n",
       "\\hline\n",
       "\tColumbus Circle / Union Station & 1767     & 1.984256 & 1.984256 & 1.984256 & 1.984256\\\\\n",
       "\tJefferson Dr \\& 14th St SW & 1603     & 1.800092 & 3.784348 & 1.800092 & 3.784348\\\\\n",
       "\tLincoln Memorial & 1514     & 1.700149 & 5.484498 & 1.700149 & 5.484498\\\\\n",
       "\tMassachusetts Ave \\& Dupont Circle NW & 1344     & 1.509248 & 6.993745 & 1.509248 & 6.993745\\\\\n",
       "\tSmithsonian-National Mall / Jefferson Dr \\& 12th St SW & 1103     & 1.238616 & 8.232361 & 1.238616 & 8.232361\\\\\n",
       "\\end{tabular}\n"
      ],
      "text/markdown": [
       "\n",
       "| <!--/--> | Freq | % Valid | % Valid Cum. | % Total | % Total Cum. |\n",
       "|---|---|---|---|---|---|\n",
       "| Columbus Circle / Union Station | 1767     | 1.984256 | 1.984256 | 1.984256 | 1.984256 |\n",
       "| Jefferson Dr & 14th St SW | 1603     | 1.800092 | 3.784348 | 1.800092 | 3.784348 |\n",
       "| Lincoln Memorial | 1514     | 1.700149 | 5.484498 | 1.700149 | 5.484498 |\n",
       "| Massachusetts Ave & Dupont Circle NW | 1344     | 1.509248 | 6.993745 | 1.509248 | 6.993745 |\n",
       "| Smithsonian-National Mall / Jefferson Dr & 12th St SW | 1103     | 1.238616 | 8.232361 | 1.238616 | 8.232361 |\n",
       "\n"
      ],
      "text/plain": [
       "                                                      Freq % Valid \n",
       "Columbus Circle / Union Station                       1767 1.984256\n",
       "Jefferson Dr & 14th St SW                             1603 1.800092\n",
       "Lincoln Memorial                                      1514 1.700149\n",
       "Massachusetts Ave & Dupont Circle NW                  1344 1.509248\n",
       "Smithsonian-National Mall / Jefferson Dr & 12th St SW 1103 1.238616\n",
       "                                                      % Valid Cum. % Total \n",
       "Columbus Circle / Union Station                       1.984256     1.984256\n",
       "Jefferson Dr & 14th St SW                             3.784348     1.800092\n",
       "Lincoln Memorial                                      5.484498     1.700149\n",
       "Massachusetts Ave & Dupont Circle NW                  6.993745     1.509248\n",
       "Smithsonian-National Mall / Jefferson Dr & 12th St SW 8.232361     1.238616\n",
       "                                                      % Total Cum.\n",
       "Columbus Circle / Union Station                       1.984256    \n",
       "Jefferson Dr & 14th St SW                             3.784348    \n",
       "Lincoln Memorial                                      5.484498    \n",
       "Massachusetts Ave & Dupont Circle NW                  6.993745    \n",
       "Smithsonian-National Mall / Jefferson Dr & 12th St SW 8.232361    "
      ]
     },
     "metadata": {},
     "output_type": "display_data"
    }
   ],
   "source": [
    "# Top 5 commonly used station in Washinton\n",
    "freq(wash$End.Station, order=\"freq\")[1:5,]"
   ]
  },
  {
   "cell_type": "code",
   "execution_count": 20,
   "metadata": {},
   "outputs": [
    {
     "data": {
      "text/html": [
       "<table>\n",
       "<thead><tr><th></th><th scope=col>Freq</th><th scope=col>% Valid</th><th scope=col>% Valid Cum.</th><th scope=col>% Total</th><th scope=col>% Total Cum.</th></tr></thead>\n",
       "<tbody>\n",
       "\t<tr><th scope=row>Streeter Dr &amp; Grand Ave</th><td>233     </td><td>2.699884</td><td>2.699884</td><td>2.699884</td><td>2.699884</td></tr>\n",
       "\t<tr><th scope=row>Clinton St &amp; Madison St</th><td>145     </td><td>1.680185</td><td>4.380070</td><td>1.680185</td><td>4.380070</td></tr>\n",
       "\t<tr><th scope=row>Theater on the Lake</th><td>131     </td><td>1.517961</td><td>5.898030</td><td>1.517961</td><td>5.898030</td></tr>\n",
       "\t<tr><th scope=row>Lake Shore Dr &amp; Monroe St</th><td>115     </td><td>1.332561</td><td>7.230591</td><td>1.332561</td><td>7.230591</td></tr>\n",
       "\t<tr><th scope=row>Clinton St &amp; Washington Blvd</th><td>109     </td><td>1.263036</td><td>8.493627</td><td>1.263036</td><td>8.493627</td></tr>\n",
       "</tbody>\n",
       "</table>\n"
      ],
      "text/latex": [
       "\\begin{tabular}{r|lllll}\n",
       "  & Freq & \\% Valid & \\% Valid Cum. & \\% Total & \\% Total Cum.\\\\\n",
       "\\hline\n",
       "\tStreeter Dr \\& Grand Ave & 233      & 2.699884 & 2.699884 & 2.699884 & 2.699884\\\\\n",
       "\tClinton St \\& Madison St & 145      & 1.680185 & 4.380070 & 1.680185 & 4.380070\\\\\n",
       "\tTheater on the Lake & 131      & 1.517961 & 5.898030 & 1.517961 & 5.898030\\\\\n",
       "\tLake Shore Dr \\& Monroe St & 115      & 1.332561 & 7.230591 & 1.332561 & 7.230591\\\\\n",
       "\tClinton St \\& Washington Blvd & 109      & 1.263036 & 8.493627 & 1.263036 & 8.493627\\\\\n",
       "\\end{tabular}\n"
      ],
      "text/markdown": [
       "\n",
       "| <!--/--> | Freq | % Valid | % Valid Cum. | % Total | % Total Cum. |\n",
       "|---|---|---|---|---|---|\n",
       "| Streeter Dr & Grand Ave | 233      | 2.699884 | 2.699884 | 2.699884 | 2.699884 |\n",
       "| Clinton St & Madison St | 145      | 1.680185 | 4.380070 | 1.680185 | 4.380070 |\n",
       "| Theater on the Lake | 131      | 1.517961 | 5.898030 | 1.517961 | 5.898030 |\n",
       "| Lake Shore Dr & Monroe St | 115      | 1.332561 | 7.230591 | 1.332561 | 7.230591 |\n",
       "| Clinton St & Washington Blvd | 109      | 1.263036 | 8.493627 | 1.263036 | 8.493627 |\n",
       "\n"
      ],
      "text/plain": [
       "                             Freq % Valid  % Valid Cum. % Total  % Total Cum.\n",
       "Streeter Dr & Grand Ave      233  2.699884 2.699884     2.699884 2.699884    \n",
       "Clinton St & Madison St      145  1.680185 4.380070     1.680185 4.380070    \n",
       "Theater on the Lake          131  1.517961 5.898030     1.517961 5.898030    \n",
       "Lake Shore Dr & Monroe St    115  1.332561 7.230591     1.332561 7.230591    \n",
       "Clinton St & Washington Blvd 109  1.263036 8.493627     1.263036 8.493627    "
      ]
     },
     "metadata": {},
     "output_type": "display_data"
    }
   ],
   "source": [
    "# Top 5 commonly used station in Chicago\n",
    "freq(chi$End.Station, order=\"freq\")[1:5,]"
   ]
  },
  {
   "cell_type": "code",
   "execution_count": 21,
   "metadata": {},
   "outputs": [
    {
     "data": {
      "text/html": [
       "<table>\n",
       "<thead><tr><th scope=col>City</th><th scope=col>Sum.Frequency</th><th scope=col>Mean.Frequency</th><th scope=col>Median.Frequency</th><th scope=col>First.Quantile.Frequency</th><th scope=col>Fourth.Quantile.Frequency</th></tr></thead>\n",
       "<tbody>\n",
       "\t<tr><td>Chicago   </td><td> 509      </td><td> 169.6667 </td><td> 145      </td><td> 138.0    </td><td> 189.0    </td></tr>\n",
       "\t<tr><td>New York  </td><td>1428      </td><td> 476.0000 </td><td> 445      </td><td> 436.0    </td><td> 500.5    </td></tr>\n",
       "\t<tr><td>Washington</td><td>4884      </td><td>1628.0000 </td><td>1603      </td><td>1558.5    </td><td>1685.0    </td></tr>\n",
       "</tbody>\n",
       "</table>\n"
      ],
      "text/latex": [
       "\\begin{tabular}{r|llllll}\n",
       " City & Sum.Frequency & Mean.Frequency & Median.Frequency & First.Quantile.Frequency & Fourth.Quantile.Frequency\\\\\n",
       "\\hline\n",
       "\t Chicago    &  509       &  169.6667  &  145       &  138.0     &  189.0    \\\\\n",
       "\t New York   & 1428       &  476.0000  &  445       &  436.0     &  500.5    \\\\\n",
       "\t Washington & 4884       & 1628.0000  & 1603       & 1558.5     & 1685.0    \\\\\n",
       "\\end{tabular}\n"
      ],
      "text/markdown": [
       "\n",
       "| City | Sum.Frequency | Mean.Frequency | Median.Frequency | First.Quantile.Frequency | Fourth.Quantile.Frequency |\n",
       "|---|---|---|---|---|---|\n",
       "| Chicago    |  509       |  169.6667  |  145       |  138.0     |  189.0     |\n",
       "| New York   | 1428       |  476.0000  |  445       |  436.0     |  500.5     |\n",
       "| Washington | 4884       | 1628.0000  | 1603       | 1558.5     | 1685.0     |\n",
       "\n"
      ],
      "text/plain": [
       "  City       Sum.Frequency Mean.Frequency Median.Frequency\n",
       "1 Chicago     509           169.6667       145            \n",
       "2 New York   1428           476.0000       445            \n",
       "3 Washington 4884          1628.0000      1603            \n",
       "  First.Quantile.Frequency Fourth.Quantile.Frequency\n",
       "1  138.0                    189.0                   \n",
       "2  436.0                    500.5                   \n",
       "3 1558.5                   1685.0                   "
      ]
     },
     "metadata": {},
     "output_type": "display_data"
    }
   ],
   "source": [
    "endStationsTopTens %>%\n",
    "  group_by(City) %>%\n",
    "  summarise(Sum.Frequency=sum(Frequency),\n",
    "            Mean.Frequency=mean(Frequency),\n",
    "            Median.Frequency=median(Frequency),\n",
    "            First.Quantile.Frequency=quantile(Frequency,0.25,na.rm=TRUE),\n",
    "            Fourth.Quantile.Frequency=quantile(Frequency,0.75,na.rm=TRUE))"
   ]
  },
  {
   "cell_type": "markdown",
   "metadata": {},
   "source": [
    "**The most common end stations were Pershing Square North in New York, Columbus Circle / Union Station in Washington, and Streeter Dr & Grand Ave in Chicago. Their usage counts were 556, 1767, and 223, respectively. These end stations accounted for 1.02%, 1.98%, and 2.70% of the recorded trips in their respective city.**\n",
    "\n",
    "**We note that the median number of recorded trips for end station in Chicago, Washington, and New York were 145, 1603, and 445, respectively.**"
   ]
  },
  {
   "cell_type": "markdown",
   "metadata": {},
   "source": [
    "### Question 3\n",
    "\n",
    "**How do the trip durations compare between the New York and Chicago, as well as by genders?**"
   ]
  },
  {
   "cell_type": "code",
   "execution_count": 22,
   "metadata": {},
   "outputs": [
    {
     "data": {
      "text/html": [
       "<table>\n",
       "<thead><tr><th scope=col>Trip.Duration</th><th scope=col>City</th><th scope=col>Gender</th><th scope=col>order</th></tr></thead>\n",
       "<tbody>\n",
       "\t<tr><td> 795    </td><td>New York</td><td>Male    </td><td>1       </td></tr>\n",
       "\t<tr><td> 692    </td><td>New York</td><td>Male    </td><td>2       </td></tr>\n",
       "\t<tr><td>1325    </td><td>New York</td><td>Male    </td><td>3       </td></tr>\n",
       "\t<tr><td> 703    </td><td>New York</td><td>Female  </td><td>4       </td></tr>\n",
       "\t<tr><td> 329    </td><td>New York</td><td>Male    </td><td>5       </td></tr>\n",
       "\t<tr><td> 998    </td><td>New York</td><td>Male    </td><td>6       </td></tr>\n",
       "</tbody>\n",
       "</table>\n"
      ],
      "text/latex": [
       "\\begin{tabular}{r|llll}\n",
       " Trip.Duration & City & Gender & order\\\\\n",
       "\\hline\n",
       "\t  795     & New York & Male     & 1       \\\\\n",
       "\t  692     & New York & Male     & 2       \\\\\n",
       "\t 1325     & New York & Male     & 3       \\\\\n",
       "\t  703     & New York & Female   & 4       \\\\\n",
       "\t  329     & New York & Male     & 5       \\\\\n",
       "\t  998     & New York & Male     & 6       \\\\\n",
       "\\end{tabular}\n"
      ],
      "text/markdown": [
       "\n",
       "| Trip.Duration | City | Gender | order |\n",
       "|---|---|---|---|\n",
       "|  795     | New York | Male     | 1        |\n",
       "|  692     | New York | Male     | 2        |\n",
       "| 1325     | New York | Male     | 3        |\n",
       "|  703     | New York | Female   | 4        |\n",
       "|  329     | New York | Male     | 5        |\n",
       "|  998     | New York | Male     | 6        |\n",
       "\n"
      ],
      "text/plain": [
       "  Trip.Duration City     Gender order\n",
       "1  795          New York Male   1    \n",
       "2  692          New York Male   2    \n",
       "3 1325          New York Male   3    \n",
       "4  703          New York Female 4    \n",
       "5  329          New York Male   5    \n",
       "6  998          New York Male   6    "
      ]
     },
     "metadata": {},
     "output_type": "display_data"
    }
   ],
   "source": [
    "# Make a dataframe with all trip durations from each city\n",
    "tripDurationsTwoCities <- data.frame(Trip.Duration=numeric(),City=character(),Gender=character(),stringsAsFactors=FALSE)\n",
    "\n",
    "for (df in list(ny, chi)) {\n",
    "    tripDurationsTwoCities <- rbind(tripDurationsTwoCities, data.frame(Trip.Duration=df$Trip.Duration, City=df$City, Gender=df$Gender))\n",
    "}\n",
    "\n",
    "row.names(tripDurationsTwoCities) <- NULL\n",
    "tripDurationsTwoCities$order = c(1:nrow(tripDurationsTwoCities))\n",
    "head(tripDurationsTwoCities)"
   ]
  },
  {
   "cell_type": "code",
   "execution_count": 23,
   "metadata": {},
   "outputs": [
    {
     "data": {
      "text/plain": [
       " Trip.Duration             City          Gender          order      \n",
       " Min.   :     60.0   New York:54770         : 7158   Min.   :    1  \n",
       " 1st Qu.:    371.0   Chicago : 8630   Female:13882   1st Qu.:15851  \n",
       " Median :    617.0                    Male  :42360   Median :31701  \n",
       " Mean   :    908.2                                   Mean   :31701  \n",
       " 3rd Qu.:   1060.0                                   3rd Qu.:47550  \n",
       " Max.   :1088634.0                                   Max.   :63400  \n",
       " NA's   :1                                                          "
      ]
     },
     "metadata": {},
     "output_type": "display_data"
    }
   ],
   "source": [
    "summary(tripDurationsTwoCities)"
   ]
  },
  {
   "cell_type": "code",
   "execution_count": 24,
   "metadata": {},
   "outputs": [],
   "source": [
    "levels(tripDurationsTwoCities$Gender) <- c(levels(tripDurationsTwoCities$Gender), \"Unknown\")\n",
    "tripDurationsTwoCities$Gender[(tripDurationsTwoCities$Gender!=\"Male\")&(tripDurationsTwoCities$Gender!=\"Female\")] <- \"Unknown\""
   ]
  },
  {
   "cell_type": "code",
   "execution_count": 25,
   "metadata": {},
   "outputs": [
    {
     "name": "stderr",
     "output_type": "stream",
     "text": [
      "Warning message:\n",
      "\"Removed 1 rows containing non-finite values (stat_boxplot).\""
     ]
    },
    {
     "data": {
      "image/png": "[encoded data removed]",
      "text/plain": [
       "plot without title"
      ]
     },
     "metadata": {},
     "output_type": "display_data"
    }
   ],
   "source": [
    "# Make a faceted of top 5 most commonly used stations from each city.\n",
    "ggplot(tripDurationsTwoCities, aes(x = Gender, y = Trip.Duration, group=Gender, fill = as.factor(Gender))) +\n",
    "       geom_boxplot(notch=TRUE) +\n",
    "       facet_grid(.~City) + \n",
    "       labs(y = \"Trip Duration\", title = \"Trip Durations by City and Gender\") +\n",
    "       theme(legend.position = \"none\") +\n",
    "       coord_cartesian(ylim = c(0, 10000))"
   ]
  },
  {
   "cell_type": "code",
   "execution_count": 26,
   "metadata": {
    "scrolled": true
   },
   "outputs": [
    {
     "data": {
      "text/plain": [
       " Trip.Duration             City           Gender          order      \n",
       " Min.   :     60.0   New York:54770          :    0   Min.   :    1  \n",
       " 1st Qu.:    371.0   Chicago : 8630   Female :13882   1st Qu.:15851  \n",
       " Median :    617.0                    Male   :42360   Median :31701  \n",
       " Mean   :    908.2                    Unknown: 7158   Mean   :31701  \n",
       " 3rd Qu.:   1060.0                                    3rd Qu.:47550  \n",
       " Max.   :1088634.0                                    Max.   :63400  \n",
       " NA's   :1                                                           "
      ]
     },
     "metadata": {},
     "output_type": "display_data"
    }
   ],
   "source": [
    "summary(tripDurationsTwoCities)"
   ]
  },
  {
   "cell_type": "code",
   "execution_count": 27,
   "metadata": {},
   "outputs": [
    {
     "data": {
      "text/html": [
       "<table>\n",
       "<thead><tr><th scope=col>City</th><th scope=col>Gender</th><th scope=col>Sum.Trip.Duration</th><th scope=col>Mean.Trip.Duration</th><th scope=col>Median.Trip.Duration</th><th scope=col>First.Quantile.Trip.Duration</th><th scope=col>Fourth.Quantile.Trip.Duration</th></tr></thead>\n",
       "<tbody>\n",
       "\t<tr><td>New York </td><td>Female   </td><td>10651022 </td><td> 875.9785</td><td> 644     </td><td>400.00   </td><td>1068.0   </td></tr>\n",
       "\t<tr><td>New York </td><td>Male     </td><td>28604515 </td><td> 768.9179</td><td> 551     </td><td>340.00   </td><td> 918.0   </td></tr>\n",
       "\t<tr><td>New York </td><td>Unknown  </td><td>10234536 </td><td>1892.1309</td><td>1232     </td><td>738.00   </td><td>1709.0   </td></tr>\n",
       "\t<tr><td>Chicago  </td><td>Female   </td><td> 1333622 </td><td> 774.0116</td><td> 668     </td><td>406.00   </td><td>1004.5   </td></tr>\n",
       "\t<tr><td>Chicago  </td><td>Male     </td><td> 3381350 </td><td> 655.4274</td><td> 536     </td><td>338.00   </td><td> 847.5   </td></tr>\n",
       "\t<tr><td>Chicago  </td><td>Unknown  </td><td> 3372829 </td><td>1929.5360</td><td>1370     </td><td>918.75   </td><td>1934.0   </td></tr>\n",
       "</tbody>\n",
       "</table>\n"
      ],
      "text/latex": [
       "\\begin{tabular}{r|lllllll}\n",
       " City & Gender & Sum.Trip.Duration & Mean.Trip.Duration & Median.Trip.Duration & First.Quantile.Trip.Duration & Fourth.Quantile.Trip.Duration\\\\\n",
       "\\hline\n",
       "\t New York  & Female    & 10651022  &  875.9785 &  644      & 400.00    & 1068.0   \\\\\n",
       "\t New York  & Male      & 28604515  &  768.9179 &  551      & 340.00    &  918.0   \\\\\n",
       "\t New York  & Unknown   & 10234536  & 1892.1309 & 1232      & 738.00    & 1709.0   \\\\\n",
       "\t Chicago   & Female    &  1333622  &  774.0116 &  668      & 406.00    & 1004.5   \\\\\n",
       "\t Chicago   & Male      &  3381350  &  655.4274 &  536      & 338.00    &  847.5   \\\\\n",
       "\t Chicago   & Unknown   &  3372829  & 1929.5360 & 1370      & 918.75    & 1934.0   \\\\\n",
       "\\end{tabular}\n"
      ],
      "text/markdown": [
       "\n",
       "| City | Gender | Sum.Trip.Duration | Mean.Trip.Duration | Median.Trip.Duration | First.Quantile.Trip.Duration | Fourth.Quantile.Trip.Duration |\n",
       "|---|---|---|---|---|---|---|\n",
       "| New York  | Female    | 10651022  |  875.9785 |  644      | 400.00    | 1068.0    |\n",
       "| New York  | Male      | 28604515  |  768.9179 |  551      | 340.00    |  918.0    |\n",
       "| New York  | Unknown   | 10234536  | 1892.1309 | 1232      | 738.00    | 1709.0    |\n",
       "| Chicago   | Female    |  1333622  |  774.0116 |  668      | 406.00    | 1004.5    |\n",
       "| Chicago   | Male      |  3381350  |  655.4274 |  536      | 338.00    |  847.5    |\n",
       "| Chicago   | Unknown   |  3372829  | 1929.5360 | 1370      | 918.75    | 1934.0    |\n",
       "\n"
      ],
      "text/plain": [
       "  City     Gender  Sum.Trip.Duration Mean.Trip.Duration Median.Trip.Duration\n",
       "1 New York Female  10651022           875.9785           644                \n",
       "2 New York Male    28604515           768.9179           551                \n",
       "3 New York Unknown 10234536          1892.1309          1232                \n",
       "4 Chicago  Female   1333622           774.0116           668                \n",
       "5 Chicago  Male     3381350           655.4274           536                \n",
       "6 Chicago  Unknown  3372829          1929.5360          1370                \n",
       "  First.Quantile.Trip.Duration Fourth.Quantile.Trip.Duration\n",
       "1 400.00                       1068.0                       \n",
       "2 340.00                        918.0                       \n",
       "3 738.00                       1709.0                       \n",
       "4 406.00                       1004.5                       \n",
       "5 338.00                        847.5                       \n",
       "6 918.75                       1934.0                       "
      ]
     },
     "metadata": {},
     "output_type": "display_data"
    }
   ],
   "source": [
    "tripDurationsTwoCities %>%\n",
    "  group_by(City, Gender) %>%\n",
    "  summarise(Sum.Trip.Duration=sum(Trip.Duration,na.rm=TRUE),\n",
    "            Mean.Trip.Duration=mean(Trip.Duration,na.rm=TRUE),\n",
    "            Median.Trip.Duration=median(Trip.Duration,na.rm=TRUE),\n",
    "            First.Quantile.Trip.Duration=quantile(Trip.Duration,0.25,na.rm=TRUE),\n",
    "            Fourth.Quantile.Trip.Duration=quantile(Trip.Duration,0.75,na.rm=TRUE))"
   ]
  },
  {
   "cell_type": "code",
   "execution_count": 28,
   "metadata": {},
   "outputs": [
    {
     "data": {
      "text/html": [
       "<table>\n",
       "<thead><tr><th scope=col>City</th><th scope=col>Sum.Trip.Duration</th><th scope=col>Mean.Trip.Duration</th><th scope=col>Median.Trip.Duration</th><th scope=col>First.Quantile.Trip.Duration</th><th scope=col>Fourth.Quantile.Trip.Duration</th></tr></thead>\n",
       "<tbody>\n",
       "\t<tr><td>New York</td><td>49490073</td><td>903.6147</td><td>610     </td><td>368.00  </td><td>1051    </td></tr>\n",
       "\t<tr><td>Chicago </td><td> 8087801</td><td>937.1728</td><td>670     </td><td>394.25  </td><td>1119    </td></tr>\n",
       "</tbody>\n",
       "</table>\n"
      ],
      "text/latex": [
       "\\begin{tabular}{r|llllll}\n",
       " City & Sum.Trip.Duration & Mean.Trip.Duration & Median.Trip.Duration & First.Quantile.Trip.Duration & Fourth.Quantile.Trip.Duration\\\\\n",
       "\\hline\n",
       "\t New York & 49490073 & 903.6147 & 610      & 368.00   & 1051    \\\\\n",
       "\t Chicago  &  8087801 & 937.1728 & 670      & 394.25   & 1119    \\\\\n",
       "\\end{tabular}\n"
      ],
      "text/markdown": [
       "\n",
       "| City | Sum.Trip.Duration | Mean.Trip.Duration | Median.Trip.Duration | First.Quantile.Trip.Duration | Fourth.Quantile.Trip.Duration |\n",
       "|---|---|---|---|---|---|\n",
       "| New York | 49490073 | 903.6147 | 610      | 368.00   | 1051     |\n",
       "| Chicago  |  8087801 | 937.1728 | 670      | 394.25   | 1119     |\n",
       "\n"
      ],
      "text/plain": [
       "  City     Sum.Trip.Duration Mean.Trip.Duration Median.Trip.Duration\n",
       "1 New York 49490073          903.6147           610                 \n",
       "2 Chicago   8087801          937.1728           670                 \n",
       "  First.Quantile.Trip.Duration Fourth.Quantile.Trip.Duration\n",
       "1 368.00                       1051                         \n",
       "2 394.25                       1119                         "
      ]
     },
     "metadata": {},
     "output_type": "display_data"
    }
   ],
   "source": [
    "tripDurationsTwoCities %>%\n",
    "  group_by(City) %>%\n",
    "  summarise(Sum.Trip.Duration=sum(Trip.Duration,na.rm=TRUE),\n",
    "            Mean.Trip.Duration=mean(Trip.Duration,na.rm=TRUE),\n",
    "            Median.Trip.Duration=median(Trip.Duration,na.rm=TRUE),\n",
    "            First.Quantile.Trip.Duration=quantile(Trip.Duration,0.25,na.rm=TRUE),\n",
    "            Fourth.Quantile.Trip.Duration=quantile(Trip.Duration,0.75,na.rm=TRUE))"
   ]
  },
  {
   "cell_type": "markdown",
   "metadata": {},
   "source": [
    "**In both New York and Chicago, the median trip duration made by females was slightly larger than the number of trips made by males. In particular, in New York, the median trip durations by males and females were 551 and 644 respectively, and in Chicago 536 and 668 respectively.**\n",
    "\n",
    "**There is also a category of trips with the gender unknown, which has higher medians than those of males and females: 1232 in New York and 1370 in Chicago.**\n",
    "\n",
    "**The median trip duration in New York was 610, which is lower than 670 in Chicago.**"
   ]
  },
  {
   "cell_type": "markdown",
   "metadata": {},
   "source": [
    "\n",
    "## Finishing Up\n",
    "\n",
    "> Congratulations!  You have reached the end of the Explore Bikeshare Data Project. You should be very proud of all you have accomplished!\n",
    "\n",
    "> **Tip**: Once you are satisfied with your work here, check over your report to make sure that it is satisfies all the areas of the [rubric](https://review.udacity.com/#!/rubrics/2508/view). \n",
    "\n",
    "\n",
    "## Directions to Submit\n",
    "\n",
    "> Before you submit your project, you need to create a .html or .pdf version of this notebook in the workspace here. To do that, run the code cell below. If it worked correctly, you should get a return code of 0, and you should see the generated .html file in the workspace directory (click on the orange Jupyter icon in the upper left).\n",
    "\n",
    "> Alternatively, you can download this report as .html via the **File** > **Download as** submenu, and then manually upload it into the workspace directory by clicking on the orange Jupyter icon in the upper left, then using the Upload button.\n",
    "\n",
    "> Once you've done this, you can submit your project by clicking on the \"Submit Project\" button in the lower right here. This will create and submit a zip file with this .ipynb doc and the .html or .pdf version you created. Congratulations!"
   ]
  },
  {
   "cell_type": "code",
   "execution_count": 29,
   "metadata": {},
   "outputs": [
    {
     "data": {
      "text/html": [
       "0"
      ],
      "text/latex": [
       "0"
      ],
      "text/markdown": [
       "0"
      ],
      "text/plain": [
       "[1] 0"
      ]
     },
     "metadata": {},
     "output_type": "display_data"
    }
   ],
   "source": [
    "system('python -m nbconvert Explore_bikeshare_data.ipynb')"
   ]
  }
 ],
 "metadata": {
  "kernelspec": {
   "display_name": "R",
   "language": "R",
   "name": "ir"
  },
  "language_info": {
   "codemirror_mode": "r",
   "file_extension": ".r",
   "mimetype": "text/x-r-source",
   "name": "R",
   "pygments_lexer": "r",
   "version": "3.6.1"
  }
 },
 "nbformat": 4,
 "nbformat_minor": 2
}
